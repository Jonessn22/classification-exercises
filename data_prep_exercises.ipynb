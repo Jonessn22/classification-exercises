{
 "cells": [
  {
   "cell_type": "markdown",
   "id": "eec1b53e",
   "metadata": {},
   "source": [
    "# data_prep_exercises"
   ]
  },
  {
   "cell_type": "markdown",
   "id": "2f206b4a",
   "metadata": {},
   "source": [
    "### Iris Data"
   ]
  },
  {
   "cell_type": "code",
   "execution_count": 2,
   "id": "a785f061",
   "metadata": {},
   "outputs": [],
   "source": [
    "# 1. Use the function defined in acquire.py to load the iris data.\n"
   ]
  },
  {
   "cell_type": "code",
   "execution_count": 3,
   "id": "5d11338f",
   "metadata": {},
   "outputs": [],
   "source": [
    "# 2. Drop the species_id and measurement_id columns.\n"
   ]
  },
  {
   "cell_type": "code",
   "execution_count": 4,
   "id": "a51d49f4",
   "metadata": {},
   "outputs": [],
   "source": [
    "# 3. Rename the species_name column to just species.\n"
   ]
  },
  {
   "cell_type": "code",
   "execution_count": 5,
   "id": "0e0fbcd3",
   "metadata": {},
   "outputs": [],
   "source": [
    "# 4. Create dummy variables of the species name and concatenate onto the iris dataframe.\n"
   ]
  },
  {
   "cell_type": "code",
   "execution_count": 6,
   "id": "61ed094a",
   "metadata": {},
   "outputs": [],
   "source": [
    "# 5. Create a function named prep_iris that accepts the untransformed iris data, and returns the data with \n",
    "#     the transformations above applied."
   ]
  },
  {
   "cell_type": "code",
   "execution_count": null,
   "id": "20ca35e0",
   "metadata": {},
   "outputs": [],
   "source": []
  }
 ],
 "metadata": {
  "kernelspec": {
   "display_name": "Python 3",
   "language": "python",
   "name": "python3"
  },
  "language_info": {
   "codemirror_mode": {
    "name": "ipython",
    "version": 3
   },
   "file_extension": ".py",
   "mimetype": "text/x-python",
   "name": "python",
   "nbconvert_exporter": "python",
   "pygments_lexer": "ipython3",
   "version": "3.8.8"
  }
 },
 "nbformat": 4,
 "nbformat_minor": 5
}
