{
 "cells": [
  {
   "cell_type": "code",
   "execution_count": 1,
   "id": "58a395bd",
   "metadata": {},
   "outputs": [],
   "source": [
    "# ignore warnings\n",
    "import warnings\n",
    "warnings.filterwarnings(\"ignore\")\n",
    "\n",
    "import pandas as pd\n",
    "import numpy as np\n",
    "\n",
    "%matplotlib inline\n",
    "import matplotlib.pyplot as plt\n",
    "import seaborn as sns\n",
    "\n",
    "from sklearn.model_selection import train_test_split\n",
    "from sklearn.neighbors import KNeighborsClassifier\n",
    "from sklearn.metrics import classification_report\n",
    "from sklearn.metrics import confusion_matrix\n",
    "\n",
    "import acquire\n",
    "import prepare"
   ]
  },
  {
   "cell_type": "code",
   "execution_count": 2,
   "id": "31b173b9",
   "metadata": {},
   "outputs": [],
   "source": [
    "# acquiring titanic data\n",
    "\n",
    "titanic_df = (acquire.new_titanic_data()).drop(columns = 'passenger_id')\n"
   ]
  },
  {
   "cell_type": "code",
   "execution_count": 3,
   "id": "0722f7ba",
   "metadata": {
    "scrolled": false
   },
   "outputs": [],
   "source": [
    "# preparing titanic data\n",
    "\n",
    "train, validate, test = (prepare.prep_titanic_data(titanic_df))\n",
    "\n",
    "for df in train, validate, test:\n",
    "    df = df.drop(columns = ['sex', 'embark_town'], inplace = True)"
   ]
  },
  {
   "cell_type": "code",
   "execution_count": 4,
   "id": "3b5f636a",
   "metadata": {},
   "outputs": [],
   "source": [
    "# creating X_train features and y_train target\n",
    "\n",
    "X_train = train.drop(columns=['survived'])\n",
    "y_train = train.survived\n",
    "\n",
    "X_validate = validate.drop(columns=['survived'])\n",
    "y_validate = validate.survived\n",
    "\n",
    "X_test = test.drop(columns=['survived'])\n",
    "y_test = test.survived"
   ]
  },
  {
   "cell_type": "markdown",
   "id": "c0c8b578",
   "metadata": {},
   "source": [
    "# 1. Fit a KNN classifier to your training sample and transform \n",
    "(i.e. make predictions on the training sample)"
   ]
  },
  {
   "cell_type": "markdown",
   "id": "bff6204e",
   "metadata": {},
   "source": [
    "### Creating KNN Object"
   ]
  },
  {
   "cell_type": "code",
   "execution_count": 5,
   "id": "f2aac757",
   "metadata": {},
   "outputs": [],
   "source": [
    "knn = KNeighborsClassifier(n_neighbors = 5, weights = 'uniform')"
   ]
  },
  {
   "cell_type": "markdown",
   "id": "23bd20eb",
   "metadata": {},
   "source": [
    "### Fitting the Model to Training Data"
   ]
  },
  {
   "cell_type": "code",
   "execution_count": 6,
   "id": "7595cac6",
   "metadata": {
    "scrolled": false
   },
   "outputs": [
    {
     "data": {
      "text/plain": [
       "KNeighborsClassifier()"
      ]
     },
     "execution_count": 6,
     "metadata": {},
     "output_type": "execute_result"
    }
   ],
   "source": [
    "knn.fit(X_train, y_train)"
   ]
  },
  {
   "cell_type": "markdown",
   "id": "d28dd50c",
   "metadata": {},
   "source": [
    "### Make Predictions"
   ]
  },
  {
   "cell_type": "code",
   "execution_count": 7,
   "id": "440e3b81",
   "metadata": {},
   "outputs": [
    {
     "data": {
      "text/plain": [
       "array([0, 0, 0, 1, 1, 1, 0, 1, 1, 0])"
      ]
     },
     "execution_count": 7,
     "metadata": {},
     "output_type": "execute_result"
    }
   ],
   "source": [
    "y_pred = knn.predict(X_train)\n",
    "y_pred[:10]"
   ]
  },
  {
   "cell_type": "markdown",
   "id": "4c388c4b",
   "metadata": {},
   "source": [
    "### Estimate Probability"
   ]
  },
  {
   "cell_type": "code",
   "execution_count": 8,
   "id": "9769ee3e",
   "metadata": {},
   "outputs": [
    {
     "data": {
      "text/plain": [
       "array([[0.8, 0.2],\n",
       "       [1. , 0. ],\n",
       "       [0.8, 0.2],\n",
       "       [0.4, 0.6],\n",
       "       [0.4, 0.6]])"
      ]
     },
     "execution_count": 8,
     "metadata": {},
     "output_type": "execute_result"
    }
   ],
   "source": [
    "y_pred_proba = knn.predict_proba(X_train)\n",
    "y_pred_proba[:5]"
   ]
  },
  {
   "cell_type": "markdown",
   "id": "c092b63a",
   "metadata": {},
   "source": [
    "# 2. Evaluate Results\n",
    "- Model score\n",
    "- Confusion matrix\n",
    "- Classification report"
   ]
  },
  {
   "cell_type": "markdown",
   "id": "757f6d7b",
   "metadata": {},
   "source": [
    "### Accuracy"
   ]
  },
  {
   "cell_type": "code",
   "execution_count": 9,
   "id": "d66c4ce7",
   "metadata": {},
   "outputs": [
    {
     "data": {
      "text/plain": [
       "0.8036529680365296"
      ]
     },
     "execution_count": 9,
     "metadata": {},
     "output_type": "execute_result"
    }
   ],
   "source": [
    "knn.score(X_train, y_train)"
   ]
  },
  {
   "cell_type": "code",
   "execution_count": 10,
   "id": "3bc48c07",
   "metadata": {},
   "outputs": [
    {
     "name": "stdout",
     "output_type": "stream",
     "text": [
      "Accuracy of the KNN classifier on the training set: 0.80\n"
     ]
    }
   ],
   "source": [
    "print('Accuracy of the KNN classifier on the training set: {:.2f}'.format(knn.score(X_train, y_train)))"
   ]
  },
  {
   "cell_type": "markdown",
   "id": "63ae3692",
   "metadata": {},
   "source": [
    "### Confusion Matrix"
   ]
  },
  {
   "cell_type": "code",
   "execution_count": 11,
   "id": "fea1d0cb",
   "metadata": {},
   "outputs": [
    {
     "name": "stdout",
     "output_type": "stream",
     "text": [
      "[[225  33]\n",
      " [ 53 127]]\n"
     ]
    }
   ],
   "source": [
    "confusion_matrix = confusion_matrix(y_train, y_pred)\n",
    "print(confusion_matrix)"
   ]
  },
  {
   "cell_type": "code",
   "execution_count": 12,
   "id": "7d597ce9",
   "metadata": {
    "scrolled": true
   },
   "outputs": [
    {
     "data": {
      "text/plain": [
       "<sklearn.metrics._plot.confusion_matrix.ConfusionMatrixDisplay at 0x7f99bde9e7c0>"
      ]
     },
     "execution_count": 12,
     "metadata": {},
     "output_type": "execute_result"
    },
    {
     "data": {
      "image/png": "[encoded data removed]",
      "text/plain": [
       "<Figure size 432x288 with 2 Axes>"
      ]
     },
     "metadata": {
      "needs_background": "light"
     },
     "output_type": "display_data"
    }
   ],
   "source": [
    "from sklearn.metrics import plot_confusion_matrix\n",
    "\n",
    "plot_confusion_matrix(knn, X_train, y_train)"
   ]
  },
  {
   "cell_type": "markdown",
   "id": "6543bb64",
   "metadata": {},
   "source": [
    "### Classification Report"
   ]
  },
  {
   "cell_type": "code",
   "execution_count": 13,
   "id": "1c545e55",
   "metadata": {},
   "outputs": [
    {
     "name": "stdout",
     "output_type": "stream",
     "text": [
      "              precision    recall  f1-score   support\n",
      "\n",
      "           0       0.81      0.87      0.84       258\n",
      "           1       0.79      0.71      0.75       180\n",
      "\n",
      "    accuracy                           0.80       438\n",
      "   macro avg       0.80      0.79      0.79       438\n",
      "weighted avg       0.80      0.80      0.80       438\n",
      "\n"
     ]
    }
   ],
   "source": [
    "print(classification_report(y_train, y_pred))"
   ]
  },
  {
   "cell_type": "markdown",
   "id": "4be190ce",
   "metadata": {},
   "source": [
    "# 3. Print and Label:\n",
    "- Accuracy\n",
    "- True Positive Rate\n",
    "- False Positive Rate\n",
    "- True Negative Rate\n",
    "- False Negative Rate\n",
    "- Precision \n",
    "- Recall\n",
    "- f1 score\n",
    "- support"
   ]
  },
  {
   "cell_type": "code",
   "execution_count": 22,
   "id": "018fb257",
   "metadata": {},
   "outputs": [],
   "source": [
    "# Positive: survive\n",
    "#     TP: Predict survive correctly\n",
    "#     FP: Predict survive incorrectly\n",
    "\n",
    "# Negative: does not survive\n",
    "#     TN: Predict does not survive correctly\n",
    "#     FN: Predict does not survive incorrectly\n",
    "\n",
    "TP = 127\n",
    "FP = 33\n",
    "TN = 225\n",
    "FN = 53\n",
    "\n",
    "total = TP + FP + TN + FN"
   ]
  },
  {
   "cell_type": "code",
   "execution_count": 28,
   "id": "499c5904",
   "metadata": {},
   "outputs": [
    {
     "name": "stdout",
     "output_type": "stream",
     "text": [
      "Accuracy: 0.80\n"
     ]
    }
   ],
   "source": [
    "# accuracy\n",
    "print('Accuracy: {:.2f}'.format((TP + TN) / total))\n",
    "\n",
    "# true positive rate\n",
    "# print('True Positive Rate: {:.2f}'.format()\n",
    "\n",
    "# false positive rate\n",
    "# print('False Positive Rate: {:.2f}'.format()\n",
    "\n",
    "# true negative rate\n",
    "# print('True Negative Rate: {:.2f}'.format()\n",
    "\n",
    "# false negative rate\n",
    "# print('False Negative Rate: {:.2f}'.format()"
   ]
  },
  {
   "cell_type": "code",
   "execution_count": 29,
   "id": "cee3f5f8",
   "metadata": {},
   "outputs": [],
   "source": [
    "# precision\n",
    "# print('Precision: {:.2f}'.format()\n",
    "\n",
    "# recall\n",
    "# print('Recall: {:.2f}'.format()\n",
    "\n",
    "# f-1 score\n",
    "# print('F-1 Score: {:.2f}'.format()\n",
    "\n",
    "# support\n",
    "# print('Support: {:.2f}'.format()"
   ]
  },
  {
   "cell_type": "code",
   "execution_count": 30,
   "id": "4c790fcb",
   "metadata": {},
   "outputs": [],
   "source": [
    "def evaluate(k):\n",
    "    '''\n",
    "    This function takes in a value for k and:\n",
    "        1. creates the KNN object\n",
    "        2. gits the model to the training data\n",
    "        3. makes predictions\n",
    "        4. estimates the probability\n",
    "        5. computes the accuracy\n",
    "        6. displays a confusion matrix\n",
    "        7. prints a classification report\n",
    "        8. prints:\n",
    "            - TP\n",
    "            - FP\n",
    "            - TN\n",
    "            - FN\n",
    "        9. prints: \n",
    "            - accuracy\n",
    "            - precision\n",
    "            - recall\n",
    "            - f-1 score\n",
    "            - support\n",
    "    '''\n",
    "   knn = KNeighborsClassifier(n_neighbors = k, weights = 'uniform') "
   ]
  },
  {
   "cell_type": "code",
   "execution_count": null,
   "id": "14288454",
   "metadata": {},
   "outputs": [],
   "source": []
  },
  {
   "cell_type": "code",
   "execution_count": null,
   "id": "3ec180e8",
   "metadata": {},
   "outputs": [],
   "source": []
  },
  {
   "cell_type": "code",
   "execution_count": null,
   "id": "72c9e1c8",
   "metadata": {},
   "outputs": [],
   "source": []
  },
  {
   "cell_type": "code",
   "execution_count": null,
   "id": "67d85535",
   "metadata": {},
   "outputs": [],
   "source": []
  },
  {
   "cell_type": "code",
   "execution_count": null,
   "id": "53444dc2",
   "metadata": {},
   "outputs": [],
   "source": []
  }
 ],
 "metadata": {
  "kernelspec": {
   "display_name": "Python 3",
   "language": "python",
   "name": "python3"
  },
  "language_info": {
   "codemirror_mode": {
    "name": "ipython",
    "version": 3
   },
   "file_extension": ".py",
   "mimetype": "text/x-python",
   "name": "python",
   "nbconvert_exporter": "python",
   "pygments_lexer": "ipython3",
   "version": "3.8.8"
  }
 },
 "nbformat": 4,
 "nbformat_minor": 5
}
