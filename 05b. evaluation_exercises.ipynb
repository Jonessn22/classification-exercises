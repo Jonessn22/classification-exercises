{
 "cells": [
  {
   "cell_type": "code",
   "execution_count": 1,
   "id": "8bbe74f1",
   "metadata": {},
   "outputs": [],
   "source": [
    "import pandas as pd\n",
    "import numpy as np\n",
    "from scipy import stats\n",
    "\n",
    "# visualization\n",
    "import matplotlib.pyplot as plt\n",
    "import seaborn as sns\n",
    "\n",
    "# import splitting and imputing functions\n",
    "from sklearn.model_selection import train_test_split\n",
    "from sklearn.impute import SimpleImputer\n",
    "\n",
    "# import local files\n",
    "import env\n",
    "import acquire\n",
    "\n",
    "import os\n",
    "\n",
    "# turn off pink boxes\n",
    "import warnings\n",
    "warnings.filterwarnings('ignore')\n",
    "\n",
    "np.random.seed(123)"
   ]
  },
  {
   "cell_type": "markdown",
   "id": "a34fdd69",
   "metadata": {},
   "source": [
    "# 2. Hand Compute Confusion Matrix\n",
    "Given the following confusion matrix, evaluate (by hand) the model's performance.\n",
    "\n",
    "\n",
    "|               | pred dog   | pred cat   |\n",
    "|:------------  |-----------:|-----------:|\n",
    "| actual dog    |         46 |         7  |\n",
    "| actual cat    |         13 |         34 |"
   ]
  },
  {
   "cell_type": "markdown",
   "id": "9538d803",
   "metadata": {},
   "source": [
    "### Positive and Negative Values\n",
    "- Positive: actually a dog\n",
    "- Negative: actually a cat\n",
    "\n",
    "### T/F // P/N\n",
    "- TP: Predict dog and, it is actually a dog.\n",
    "    - 46\n",
    "- TN: Predict cat and, it is actually a cat.\n",
    "    - 34\n",
    "- <b>FP: Predict dog but, it actually is a cat.\n",
    "    - 13\n",
    "- FN: Predict cat but, it is actually a dog.\n",
    "    - 7 </b>\n",
    "    \n",
    "### How to describe the model\n",
    "We are predicting whether the model will correctly identify a dog as a dog (vs a cat)."
   ]
  },
  {
   "cell_type": "markdown",
   "id": "24692b05",
   "metadata": {},
   "source": [
    "### Predicting Performance"
   ]
  },
  {
   "cell_type": "code",
   "execution_count": 69,
   "id": "99b72811",
   "metadata": {},
   "outputs": [],
   "source": [
    "# total observations:\n",
    "total_obs = 46 + 7 + 13 + 34\n",
    "\n",
    "# for baseline, actual value totals\n",
    "actual_dog = 46 + 7\n",
    "actual_cat = 13 + 34\n",
    "\n",
    "# confusion matrix values\n",
    "tp = 46 \n",
    "tn = 34 \n",
    "fp = 13\n",
    "fn = 7 "
   ]
  },
  {
   "cell_type": "code",
   "execution_count": 12,
   "id": "08e2457b",
   "metadata": {
    "scrolled": true
   },
   "outputs": [
    {
     "name": "stdout",
     "output_type": "stream",
     "text": [
      "Accuracy: 80.0%\n"
     ]
    }
   ],
   "source": [
    "# accuracy\n",
    "#     percentage of total correct (positive or negative) predictions of total predictions\n",
    "#     (TP + TN) / (total_obs)\n",
    "\n",
    "accuracy = (tp + tn) / total_obs\n",
    "print(f'Accuracy: {(accuracy * 100)}%')"
   ]
  },
  {
   "cell_type": "code",
   "execution_count": 16,
   "id": "9ce0f0e4",
   "metadata": {},
   "outputs": [
    {
     "name": "stdout",
     "output_type": "stream",
     "text": [
      "Precision: 77.96610169491525%\n"
     ]
    }
   ],
   "source": [
    "# precision\n",
    "#     percentage of positive predictions that are correct\n",
    "#     minimizing -----------> FP's\n",
    "#     TP / (TP + FP)\n",
    "\n",
    "precision = tp / (tp + fp)\n",
    "print(f'Precision: {(precision * 100)}%')"
   ]
  },
  {
   "cell_type": "code",
   "execution_count": 18,
   "id": "279384a2",
   "metadata": {},
   "outputs": [
    {
     "name": "stdout",
     "output_type": "stream",
     "text": [
      "Recall: 86.79245283018868%\n"
     ]
    }
   ],
   "source": [
    "# recall\n",
    "#     percentage of positive cases we accurately predicted (comparing true positives with total actual positives)\n",
    "#     minimizing -----------> FN's\n",
    "#     TP / (TP + FN)\n",
    "\n",
    "recall = tp / (tp + fn)\n",
    "print(f'Recall: {(recall * 100)}%')"
   ]
  },
  {
   "cell_type": "markdown",
   "id": "60ab6ba4",
   "metadata": {},
   "source": [
    "# 3. C3 Rubber Ducks\n",
    "You are working as a datascientist working for Codeup Cody Creator (C3 for short), a rubber-duck manufacturing plant.<p>\n",
    "\n",
    "Unfortunately, some of the rubber ducks that are produced will have defects. Your team has built several models that try to predict those defects.<p>\n",
    "-  <b>Positive: Rubber duck is actually defected.</b>\n",
    "    - TP: We predicted a defect and the rubber duck was actually defected.\n",
    "    - FP: We predicted a defect but the rubber duck was not actually defected.\n",
    "- <b>Negative: Rubber duck is not actually defected.</b>\n",
    "    - TN: We predicted the rubber duck was not defected and it was not actually defected.\n",
    "    - FN: We predicted the rubber duck was defected and it was not actually defected.\n",
    "- <b>Costs</b>\n",
    "    - FP: wasted money/resources; throwing away a good duck\n",
    "    - FN: sending out a defected duck; customer dissatisfaction, time and money to resolve, lost customer, reputation"
   ]
  },
  {
   "cell_type": "code",
   "execution_count": 28,
   "id": "82f350a6",
   "metadata": {
    "scrolled": true
   },
   "outputs": [
    {
     "data": {
      "text/html": [
       "<div>\n",
       "<style scoped>\n",
       "    .dataframe tbody tr th:only-of-type {\n",
       "        vertical-align: middle;\n",
       "    }\n",
       "\n",
       "    .dataframe tbody tr th {\n",
       "        vertical-align: top;\n",
       "    }\n",
       "\n",
       "    .dataframe thead th {\n",
       "        text-align: right;\n",
       "    }\n",
       "</style>\n",
       "<table border=\"1\" class=\"dataframe\">\n",
       "  <thead>\n",
       "    <tr style=\"text-align: right;\">\n",
       "      <th></th>\n",
       "      <th>actual</th>\n",
       "      <th>model1</th>\n",
       "      <th>model2</th>\n",
       "      <th>model3</th>\n",
       "    </tr>\n",
       "  </thead>\n",
       "  <tbody>\n",
       "    <tr>\n",
       "      <th>0</th>\n",
       "      <td>No Defect</td>\n",
       "      <td>No Defect</td>\n",
       "      <td>Defect</td>\n",
       "      <td>No Defect</td>\n",
       "    </tr>\n",
       "    <tr>\n",
       "      <th>1</th>\n",
       "      <td>No Defect</td>\n",
       "      <td>No Defect</td>\n",
       "      <td>Defect</td>\n",
       "      <td>Defect</td>\n",
       "    </tr>\n",
       "    <tr>\n",
       "      <th>2</th>\n",
       "      <td>No Defect</td>\n",
       "      <td>No Defect</td>\n",
       "      <td>Defect</td>\n",
       "      <td>No Defect</td>\n",
       "    </tr>\n",
       "    <tr>\n",
       "      <th>3</th>\n",
       "      <td>No Defect</td>\n",
       "      <td>Defect</td>\n",
       "      <td>Defect</td>\n",
       "      <td>Defect</td>\n",
       "    </tr>\n",
       "    <tr>\n",
       "      <th>4</th>\n",
       "      <td>No Defect</td>\n",
       "      <td>No Defect</td>\n",
       "      <td>Defect</td>\n",
       "      <td>No Defect</td>\n",
       "    </tr>\n",
       "    <tr>\n",
       "      <th>...</th>\n",
       "      <td>...</td>\n",
       "      <td>...</td>\n",
       "      <td>...</td>\n",
       "      <td>...</td>\n",
       "    </tr>\n",
       "    <tr>\n",
       "      <th>195</th>\n",
       "      <td>No Defect</td>\n",
       "      <td>No Defect</td>\n",
       "      <td>Defect</td>\n",
       "      <td>Defect</td>\n",
       "    </tr>\n",
       "    <tr>\n",
       "      <th>196</th>\n",
       "      <td>Defect</td>\n",
       "      <td>Defect</td>\n",
       "      <td>No Defect</td>\n",
       "      <td>No Defect</td>\n",
       "    </tr>\n",
       "    <tr>\n",
       "      <th>197</th>\n",
       "      <td>No Defect</td>\n",
       "      <td>No Defect</td>\n",
       "      <td>No Defect</td>\n",
       "      <td>No Defect</td>\n",
       "    </tr>\n",
       "    <tr>\n",
       "      <th>198</th>\n",
       "      <td>No Defect</td>\n",
       "      <td>No Defect</td>\n",
       "      <td>Defect</td>\n",
       "      <td>Defect</td>\n",
       "    </tr>\n",
       "    <tr>\n",
       "      <th>199</th>\n",
       "      <td>No Defect</td>\n",
       "      <td>No Defect</td>\n",
       "      <td>No Defect</td>\n",
       "      <td>Defect</td>\n",
       "    </tr>\n",
       "  </tbody>\n",
       "</table>\n",
       "<p>200 rows × 4 columns</p>\n",
       "</div>"
      ],
      "text/plain": [
       "        actual     model1     model2     model3\n",
       "0    No Defect  No Defect     Defect  No Defect\n",
       "1    No Defect  No Defect     Defect     Defect\n",
       "2    No Defect  No Defect     Defect  No Defect\n",
       "3    No Defect     Defect     Defect     Defect\n",
       "4    No Defect  No Defect     Defect  No Defect\n",
       "..         ...        ...        ...        ...\n",
       "195  No Defect  No Defect     Defect     Defect\n",
       "196     Defect     Defect  No Defect  No Defect\n",
       "197  No Defect  No Defect  No Defect  No Defect\n",
       "198  No Defect  No Defect     Defect     Defect\n",
       "199  No Defect  No Defect  No Defect     Defect\n",
       "\n",
       "[200 rows x 4 columns]"
      ]
     },
     "execution_count": 28,
     "metadata": {},
     "output_type": "execute_result"
    }
   ],
   "source": [
    "# reading in the c3.csv file as DataFrame\n",
    "\n",
    "rubber_ducks_df = pd.read_csv('c3.csv')\n",
    "rubber_ducks_df"
   ]
  },
  {
   "cell_type": "code",
   "execution_count": 30,
   "id": "d79f0491",
   "metadata": {
    "scrolled": true
   },
   "outputs": [
    {
     "data": {
      "text/html": [
       "<div>\n",
       "<style scoped>\n",
       "    .dataframe tbody tr th:only-of-type {\n",
       "        vertical-align: middle;\n",
       "    }\n",
       "\n",
       "    .dataframe tbody tr th {\n",
       "        vertical-align: top;\n",
       "    }\n",
       "\n",
       "    .dataframe thead th {\n",
       "        text-align: right;\n",
       "    }\n",
       "</style>\n",
       "<table border=\"1\" class=\"dataframe\">\n",
       "  <thead>\n",
       "    <tr style=\"text-align: right;\">\n",
       "      <th></th>\n",
       "      <th>actual</th>\n",
       "      <th>model1</th>\n",
       "      <th>model2</th>\n",
       "      <th>model3</th>\n",
       "      <th>baseline</th>\n",
       "    </tr>\n",
       "  </thead>\n",
       "  <tbody>\n",
       "    <tr>\n",
       "      <th>0</th>\n",
       "      <td>No Defect</td>\n",
       "      <td>No Defect</td>\n",
       "      <td>Defect</td>\n",
       "      <td>No Defect</td>\n",
       "      <td>Defect</td>\n",
       "    </tr>\n",
       "    <tr>\n",
       "      <th>1</th>\n",
       "      <td>No Defect</td>\n",
       "      <td>No Defect</td>\n",
       "      <td>Defect</td>\n",
       "      <td>Defect</td>\n",
       "      <td>Defect</td>\n",
       "    </tr>\n",
       "    <tr>\n",
       "      <th>2</th>\n",
       "      <td>No Defect</td>\n",
       "      <td>No Defect</td>\n",
       "      <td>Defect</td>\n",
       "      <td>No Defect</td>\n",
       "      <td>Defect</td>\n",
       "    </tr>\n",
       "    <tr>\n",
       "      <th>3</th>\n",
       "      <td>No Defect</td>\n",
       "      <td>Defect</td>\n",
       "      <td>Defect</td>\n",
       "      <td>Defect</td>\n",
       "      <td>Defect</td>\n",
       "    </tr>\n",
       "    <tr>\n",
       "      <th>4</th>\n",
       "      <td>No Defect</td>\n",
       "      <td>No Defect</td>\n",
       "      <td>Defect</td>\n",
       "      <td>No Defect</td>\n",
       "      <td>Defect</td>\n",
       "    </tr>\n",
       "    <tr>\n",
       "      <th>...</th>\n",
       "      <td>...</td>\n",
       "      <td>...</td>\n",
       "      <td>...</td>\n",
       "      <td>...</td>\n",
       "      <td>...</td>\n",
       "    </tr>\n",
       "    <tr>\n",
       "      <th>195</th>\n",
       "      <td>No Defect</td>\n",
       "      <td>No Defect</td>\n",
       "      <td>Defect</td>\n",
       "      <td>Defect</td>\n",
       "      <td>Defect</td>\n",
       "    </tr>\n",
       "    <tr>\n",
       "      <th>196</th>\n",
       "      <td>Defect</td>\n",
       "      <td>Defect</td>\n",
       "      <td>No Defect</td>\n",
       "      <td>No Defect</td>\n",
       "      <td>Defect</td>\n",
       "    </tr>\n",
       "    <tr>\n",
       "      <th>197</th>\n",
       "      <td>No Defect</td>\n",
       "      <td>No Defect</td>\n",
       "      <td>No Defect</td>\n",
       "      <td>No Defect</td>\n",
       "      <td>Defect</td>\n",
       "    </tr>\n",
       "    <tr>\n",
       "      <th>198</th>\n",
       "      <td>No Defect</td>\n",
       "      <td>No Defect</td>\n",
       "      <td>Defect</td>\n",
       "      <td>Defect</td>\n",
       "      <td>Defect</td>\n",
       "    </tr>\n",
       "    <tr>\n",
       "      <th>199</th>\n",
       "      <td>No Defect</td>\n",
       "      <td>No Defect</td>\n",
       "      <td>No Defect</td>\n",
       "      <td>Defect</td>\n",
       "      <td>Defect</td>\n",
       "    </tr>\n",
       "  </tbody>\n",
       "</table>\n",
       "<p>200 rows × 5 columns</p>\n",
       "</div>"
      ],
      "text/plain": [
       "        actual     model1     model2     model3 baseline\n",
       "0    No Defect  No Defect     Defect  No Defect   Defect\n",
       "1    No Defect  No Defect     Defect     Defect   Defect\n",
       "2    No Defect  No Defect     Defect  No Defect   Defect\n",
       "3    No Defect     Defect     Defect     Defect   Defect\n",
       "4    No Defect  No Defect     Defect  No Defect   Defect\n",
       "..         ...        ...        ...        ...      ...\n",
       "195  No Defect  No Defect     Defect     Defect   Defect\n",
       "196     Defect     Defect  No Defect  No Defect   Defect\n",
       "197  No Defect  No Defect  No Defect  No Defect   Defect\n",
       "198  No Defect  No Defect     Defect     Defect   Defect\n",
       "199  No Defect  No Defect  No Defect     Defect   Defect\n",
       "\n",
       "[200 rows x 5 columns]"
      ]
     },
     "execution_count": 30,
     "metadata": {},
     "output_type": "execute_result"
    }
   ],
   "source": [
    "# creating column for baseline\n",
    "\n",
    "rubber_ducks_df['baseline'] = 'Defect'\n",
    "rubber_ducks_df"
   ]
  },
  {
   "cell_type": "code",
   "execution_count": 1,
   "id": "a3f9e2ac",
   "metadata": {
    "scrolled": true
   },
   "outputs": [
    {
     "ename": "NameError",
     "evalue": "name 'rubber_ducks_df' is not defined",
     "output_type": "error",
     "traceback": [
      "\u001b[0;31m--------------------------------------------------------\u001b[0m",
      "\u001b[0;31mNameError\u001b[0m              Traceback (most recent call last)",
      "\u001b[0;32m<ipython-input-1-2fd643292ad1>\u001b[0m in \u001b[0;36m<module>\u001b[0;34m\u001b[0m\n\u001b[1;32m      1\u001b[0m \u001b[0;31m# accuracy\u001b[0m\u001b[0;34m\u001b[0m\u001b[0;34m\u001b[0m\u001b[0;34m\u001b[0m\u001b[0m\n\u001b[1;32m      2\u001b[0m \u001b[0;34m\u001b[0m\u001b[0m\n\u001b[0;32m----> 3\u001b[0;31m \u001b[0mmodel1_accuracy\u001b[0m \u001b[0;34m=\u001b[0m \u001b[0;34m(\u001b[0m\u001b[0mrubber_ducks_df\u001b[0m\u001b[0;34m.\u001b[0m\u001b[0mactual\u001b[0m \u001b[0;34m==\u001b[0m \u001b[0mrubber_ducks_df\u001b[0m\u001b[0;34m.\u001b[0m\u001b[0mmodel1\u001b[0m\u001b[0;34m)\u001b[0m\u001b[0;34m.\u001b[0m\u001b[0mmean\u001b[0m\u001b[0;34m(\u001b[0m\u001b[0;34m)\u001b[0m\u001b[0;34m\u001b[0m\u001b[0;34m\u001b[0m\u001b[0m\n\u001b[0m\u001b[1;32m      4\u001b[0m \u001b[0mprint\u001b[0m\u001b[0;34m(\u001b[0m\u001b[0;34mf'model1 Accuracy: {model1_accuracy}'\u001b[0m\u001b[0;34m)\u001b[0m\u001b[0;34m\u001b[0m\u001b[0;34m\u001b[0m\u001b[0m\n\u001b[1;32m      5\u001b[0m \u001b[0;34m\u001b[0m\u001b[0m\n",
      "\u001b[0;31mNameError\u001b[0m: name 'rubber_ducks_df' is not defined"
     ]
    }
   ],
   "source": [
    "# accuracy\n",
    "\n",
    "model1_accuracy = (rubber_ducks_df.actual == rubber_ducks_df.model1).mean()\n",
    "print(f'model1 Accuracy: {model1_accuracy}')\n",
    "\n",
    "model2_accuracy = (rubber_ducks_df.actual == rubber_ducks_df.model2).mean()\n",
    "print(f'model2 Accuracy: {model2_accuracy}')\n",
    "\n",
    "model3_accuracy = (rubber_ducks_df.actual == rubber_ducks_df.model3).mean()\n",
    "print(f'model3 Accuracy: {model3_accuracy}')\n",
    "\n",
    "baseline_accuracy = (rubber_ducks_df.actual == rubber_ducks_df.baseline).mean()\n",
    "print(f'baseline Accuracy: {baseline_accuracy}')"
   ]
  },
  {
   "cell_type": "code",
   "execution_count": 66,
   "id": "7fad7256",
   "metadata": {},
   "outputs": [
    {
     "name": "stdout",
     "output_type": "stream",
     "text": [
      "model1 Precision: 0.8\n",
      "model1 Precision: 0.1\n",
      "model1 Precision: 0.13131313131313133\n"
     ]
    }
   ],
   "source": [
    "# precision\n",
    "#     minimizing FP's\n",
    "#     looking at the subset of data where we have made a positive prediction --> top row\n",
    "\n",
    "# creating precision subset, only looking at the observations/rows where we made a positive prediction\n",
    "subset1 = rubber_ducks_df[rubber_ducks_df.model1 == 'Defect']\n",
    "subset2 = rubber_ducks_df[rubber_ducks_df.model2 == 'Defect']\n",
    "subset3 = rubber_ducks_df[rubber_ducks_df.model3 == 'Defect']\n",
    "\n",
    "# calculating the precision by comparing the actual and model predictions\n",
    "model1_precision = (subset1.actual == subset1.model1).mean()\n",
    "print(f'model1 Precision: {model1_precision}')\n",
    "\n",
    "model2_precision = (subset2.actual == subset2.model2).mean()\n",
    "print(f'model1 Precision: {model2_precision}')\n",
    "\n",
    "model3_precision = (subset3.actual == subset3.model3).mean()\n",
    "print(f'model1 Precision: {model3_precision}')"
   ]
  },
  {
   "cell_type": "code",
   "execution_count": null,
   "id": "6acae2a4",
   "metadata": {
    "scrolled": true
   },
   "outputs": [],
   "source": []
  },
  {
   "cell_type": "code",
   "execution_count": null,
   "id": "a531cd5e",
   "metadata": {},
   "outputs": [],
   "source": []
  }
 ],
 "metadata": {
  "kernelspec": {
   "display_name": "Python 3",
   "language": "python",
   "name": "python3"
  },
  "language_info": {
   "codemirror_mode": {
    "name": "ipython",
    "version": 3
   },
   "file_extension": ".py",
   "mimetype": "text/x-python",
   "name": "python",
   "nbconvert_exporter": "python",
   "pygments_lexer": "ipython3",
   "version": "3.8.8"
  }
 },
 "nbformat": 4,
 "nbformat_minor": 5
}
