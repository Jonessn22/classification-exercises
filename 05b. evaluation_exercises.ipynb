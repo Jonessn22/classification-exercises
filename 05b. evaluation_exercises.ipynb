{
 "cells": [
  {
   "cell_type": "code",
   "execution_count": 1,
   "id": "8bbe74f1",
   "metadata": {},
   "outputs": [],
   "source": [
    "import pandas as pd\n",
    "import numpy as np\n",
    "from scipy import stats\n",
    "\n",
    "# visualization\n",
    "import matplotlib.pyplot as plt\n",
    "import seaborn as sns\n",
    "\n",
    "# import splitting and imputing functions\n",
    "from sklearn.model_selection import train_test_split\n",
    "from sklearn.impute import SimpleImputer\n",
    "\n",
    "# import local files\n",
    "import env\n",
    "import acquire\n",
    "\n",
    "import os\n",
    "\n",
    "# turn off pink boxes\n",
    "import warnings\n",
    "warnings.filterwarnings('ignore')\n",
    "\n",
    "np.random.seed(123)"
   ]
  },
  {
   "cell_type": "markdown",
   "id": "a34fdd69",
   "metadata": {},
   "source": [
    "# 2. Hand Compute Confusion Matrix\n",
    "Given the following confusion matrix, evaluate (by hand) the model's performance.\n",
    "\n",
    "\n",
    "|               | pred dog   | pred cat   |\n",
    "|:------------  |-----------:|-----------:|\n",
    "| actual dog    |         46 |         7  |\n",
    "| actual cat    |         13 |         34 |"
   ]
  },
  {
   "cell_type": "markdown",
   "id": "9538d803",
   "metadata": {},
   "source": [
    "### Positive and Negative Values\n",
    "- Positive: actually a dog\n",
    "- Negative: actually a cat\n",
    "\n",
    "### T/F // P/N\n",
    "- TP: Predict dog and, it is actually a dog.\n",
    "    - 46\n",
    "- TN: Predict cat and, it is actually a cat.\n",
    "    - 34\n",
    "- <b>FP: Predict dog but, it actually is a cat.\n",
    "    - 13\n",
    "- FN: Predict cat but, it is actually a dog.\n",
    "    - 7 </b>\n",
    "    \n",
    "### How to describe the model\n",
    "We are predicting whether the model will correctly identify a dog as a dog (vs a cat)."
   ]
  },
  {
   "cell_type": "markdown",
   "id": "24692b05",
   "metadata": {},
   "source": [
    "### Predicting Performance"
   ]
  },
  {
   "cell_type": "code",
   "execution_count": 2,
   "id": "99b72811",
   "metadata": {},
   "outputs": [],
   "source": [
    "# total observations:\n",
    "total_obs = 46 + 7 + 13 + 34\n",
    "\n",
    "# for baseline, actual value totals\n",
    "actual_dog = 46 + 7\n",
    "actual_cat = 13 + 34\n",
    "\n",
    "# confusion matrix values\n",
    "tp = 46 \n",
    "tn = 34 \n",
    "fp = 13\n",
    "fn = 7 "
   ]
  },
  {
   "cell_type": "code",
   "execution_count": 3,
   "id": "08e2457b",
   "metadata": {
    "scrolled": true
   },
   "outputs": [
    {
     "name": "stdout",
     "output_type": "stream",
     "text": [
      "Accuracy: 80.0%\n"
     ]
    }
   ],
   "source": [
    "# accuracy\n",
    "#     percentage of total correct (positive or negative) predictions of total predictions\n",
    "#     (TP + TN) / (total_obs)\n",
    "\n",
    "accuracy = (tp + tn) / total_obs\n",
    "print(f'Accuracy: {(accuracy * 100)}%')"
   ]
  },
  {
   "cell_type": "code",
   "execution_count": 4,
   "id": "9ce0f0e4",
   "metadata": {},
   "outputs": [
    {
     "name": "stdout",
     "output_type": "stream",
     "text": [
      "Precision: 77.96610169491525%\n"
     ]
    }
   ],
   "source": [
    "# precision\n",
    "#     percentage of positive predictions that are correct\n",
    "#     minimizing -----------> FP's\n",
    "#     TP / (TP + FP)\n",
    "\n",
    "precision = tp / (tp + fp)\n",
    "print(f'Precision: {(precision * 100)}%')"
   ]
  },
  {
   "cell_type": "code",
   "execution_count": 5,
   "id": "279384a2",
   "metadata": {},
   "outputs": [
    {
     "name": "stdout",
     "output_type": "stream",
     "text": [
      "Recall: 86.79245283018868%\n"
     ]
    }
   ],
   "source": [
    "# recall\n",
    "#     percentage of positive cases we accurately predicted (comparing true positives with total actual positives)\n",
    "#     minimizing -----------> FN's\n",
    "#     TP / (TP + FN)\n",
    "\n",
    "recall = tp / (tp + fn)\n",
    "print(f'Recall: {(recall * 100)}%')"
   ]
  },
  {
   "cell_type": "markdown",
   "id": "60ab6ba4",
   "metadata": {},
   "source": [
    "# 3. C3 Rubber Ducks\n",
    "You are working as a datascientist working for Codeup Cody Creator (C3 for short), a rubber-duck manufacturing plant.<p>\n",
    "\n",
    "Unfortunately, some of the rubber ducks that are produced will have defects. Your team has built several models that try to predict those defects.<p>\n",
    "-  <b>Positive: Rubber duck is actually defected.</b>\n",
    "    - TP: We predicted a defect and the rubber duck was actually defected.\n",
    "    - FP: We predicted a defect but the rubber duck was not actually defected.\n",
    "- <b>Negative: Rubber duck is not actually defected.</b>\n",
    "    - TN: We predicted the rubber duck was not defected and it was not actually defected.\n",
    "    - FN: We predicted the rubber duck was defected and it was not actually defected.\n",
    "- <b>Costs</b>\n",
    "    - FP: wasted money/resources; giving a vacation to someone who actually had a duck with no defect; throwing away a good duck\n",
    "    - FN: sending out a defected duck; customer dissatisfaction, time and money to resolve, lost customer, reputation"
   ]
  },
  {
   "cell_type": "code",
   "execution_count": 6,
   "id": "82f350a6",
   "metadata": {
    "scrolled": true
   },
   "outputs": [
    {
     "data": {
      "text/html": [
       "<div>\n",
       "<style scoped>\n",
       "    .dataframe tbody tr th:only-of-type {\n",
       "        vertical-align: middle;\n",
       "    }\n",
       "\n",
       "    .dataframe tbody tr th {\n",
       "        vertical-align: top;\n",
       "    }\n",
       "\n",
       "    .dataframe thead th {\n",
       "        text-align: right;\n",
       "    }\n",
       "</style>\n",
       "<table border=\"1\" class=\"dataframe\">\n",
       "  <thead>\n",
       "    <tr style=\"text-align: right;\">\n",
       "      <th></th>\n",
       "      <th>actual</th>\n",
       "      <th>model1</th>\n",
       "      <th>model2</th>\n",
       "      <th>model3</th>\n",
       "    </tr>\n",
       "  </thead>\n",
       "  <tbody>\n",
       "    <tr>\n",
       "      <th>0</th>\n",
       "      <td>No Defect</td>\n",
       "      <td>No Defect</td>\n",
       "      <td>Defect</td>\n",
       "      <td>No Defect</td>\n",
       "    </tr>\n",
       "    <tr>\n",
       "      <th>1</th>\n",
       "      <td>No Defect</td>\n",
       "      <td>No Defect</td>\n",
       "      <td>Defect</td>\n",
       "      <td>Defect</td>\n",
       "    </tr>\n",
       "    <tr>\n",
       "      <th>2</th>\n",
       "      <td>No Defect</td>\n",
       "      <td>No Defect</td>\n",
       "      <td>Defect</td>\n",
       "      <td>No Defect</td>\n",
       "    </tr>\n",
       "    <tr>\n",
       "      <th>3</th>\n",
       "      <td>No Defect</td>\n",
       "      <td>Defect</td>\n",
       "      <td>Defect</td>\n",
       "      <td>Defect</td>\n",
       "    </tr>\n",
       "    <tr>\n",
       "      <th>4</th>\n",
       "      <td>No Defect</td>\n",
       "      <td>No Defect</td>\n",
       "      <td>Defect</td>\n",
       "      <td>No Defect</td>\n",
       "    </tr>\n",
       "  </tbody>\n",
       "</table>\n",
       "</div>"
      ],
      "text/plain": [
       "      actual     model1  model2     model3\n",
       "0  No Defect  No Defect  Defect  No Defect\n",
       "1  No Defect  No Defect  Defect     Defect\n",
       "2  No Defect  No Defect  Defect  No Defect\n",
       "3  No Defect     Defect  Defect     Defect\n",
       "4  No Defect  No Defect  Defect  No Defect"
      ]
     },
     "execution_count": 6,
     "metadata": {},
     "output_type": "execute_result"
    }
   ],
   "source": [
    "# reading in the c3.csv file as DataFrame\n",
    "\n",
    "rubber_ducks_df = pd.read_csv('c3.csv')\n",
    "rubber_ducks_df.head()"
   ]
  },
  {
   "cell_type": "code",
   "execution_count": 7,
   "id": "6e7b84b2",
   "metadata": {},
   "outputs": [
    {
     "data": {
      "text/plain": [
       "No Defect    184\n",
       "Defect        16\n",
       "Name: actual, dtype: int64"
      ]
     },
     "execution_count": 7,
     "metadata": {},
     "output_type": "execute_result"
    }
   ],
   "source": [
    "rubber_ducks_df.actual.value_counts()"
   ]
  },
  {
   "attachments": {
    "def_duck.webp": {
     "image/webp": "[encoded data removed]"
    }
   },
   "cell_type": "markdown",
   "id": "91312900",
   "metadata": {},
   "source": [
    "![def_duck.webp](attachment:def_duck.webp)"
   ]
  },
  {
   "cell_type": "markdown",
   "id": "60802647",
   "metadata": {},
   "source": [
    "# 3a. Quality Control\n",
    ">An internal team wants to investigate the cause of the manufacturing defects. They tell you that they want to identify as many of the ducks that have a defect as possible. Which evaluation metric would be appropriate here? Which model would be the best fit for this use case?\n",
    "\n",
    "#### Quality control wants to reduce the number of defected ducks sent out. Their metric of interest would be:\n",
    "> <b>Recall</b><br>\n",
    "They want to minimize FN<br>\n",
    "FN: Thinking a defected duck is actually not defective"
   ]
  },
  {
   "cell_type": "code",
   "execution_count": 8,
   "id": "7fad7256",
   "metadata": {},
   "outputs": [
    {
     "name": "stdout",
     "output_type": "stream",
     "text": [
      "model1 Recall: 50.00%\n",
      "model1 Recall: 56.25%\n",
      "model1 Recall: 81.25%\n"
     ]
    }
   ],
   "source": [
    "# recall\n",
    "#     minimizing FN's\n",
    "#     looking at the subset of data where our actual values are positive (defected ducks)\n",
    "\n",
    "# creating recall subset, only looking at the observations/rows where the actual value was positive\n",
    "subset_actual_pos = rubber_ducks_df[rubber_ducks_df.actual == 'Defect']\n",
    "subset_actual_pos\n",
    "\n",
    "# # calculating the recall by comparing the TP predictions with the total actual positive outcomes (TP + FN)\n",
    "model1_recall = (subset_actual_pos.actual == subset_actual_pos.model1).mean()\n",
    "print(f'model1 Recall: {model1_recall:.2%}')\n",
    "\n",
    "model2_recall = (subset_actual_pos.actual == subset_actual_pos.model2).mean()\n",
    "print(f'model1 Recall: {model2_recall:.2%}')\n",
    "\n",
    "model3_recall = (subset_actual_pos.actual == subset_actual_pos.model3).mean()\n",
    "print(f'model1 Recall: {model3_recall:.2%}')"
   ]
  },
  {
   "cell_type": "markdown",
   "id": "6788e1ad",
   "metadata": {
    "scrolled": true
   },
   "source": [
    "#### Quality Control should choose Model 3 since it has the highest recall of 81.25%\n",
    ">We are looking to minimize our False Negatives, or the number of defective ducks we incorrectly label as non-defective"
   ]
  },
  {
   "cell_type": "markdown",
   "id": "08f53bc7",
   "metadata": {},
   "source": [
    "# 3b. Defective PR Duck Vacation Program\n",
    ">The PR team has decided to launch a program that gives customers with a defective duck a vacation to Hawaii. They need you to predict which ducks will have defects, but tell you the really don't want to accidentally give out a vacation package when the duck really doesn't have a defect. Which evaluation metric would be appropriate here? Which model would be the best fit for this use case?\n",
    "\n",
    "#### The metric of interest here would be:\n",
    ">Precision<br>\n",
    "They want to minimize FP<br>\n",
    "FN: Incorrectly predicting that a non-defective duck is defective. "
   ]
  },
  {
   "cell_type": "code",
   "execution_count": 9,
   "id": "e55d475a",
   "metadata": {},
   "outputs": [
    {
     "name": "stdout",
     "output_type": "stream",
     "text": [
      "Model 1 Precision: 80.00%\n"
     ]
    }
   ],
   "source": [
    "# for model 1, looking the subset of data where model 1 was a positive prediction, whether TP or FP\n",
    "subset_pred_pos_1 = rubber_ducks_df[rubber_ducks_df.model1 == 'Defect']\n",
    "\n",
    "# precision for model 1 is the percentage of total positive predictions were actually positive\n",
    "model1_prec = (subset_pred_pos_1.actual == subset_pred_pos_1.model1).mean()\n",
    "print(f'Model 1 Precision: {model1_prec:.2%}')"
   ]
  },
  {
   "cell_type": "code",
   "execution_count": 10,
   "id": "d7180b8b",
   "metadata": {},
   "outputs": [
    {
     "name": "stdout",
     "output_type": "stream",
     "text": [
      "Model 2 Precision: 10.00%\n"
     ]
    }
   ],
   "source": [
    "# for model 2, looking the subset of data where model 2 was a positive prediction, whether TP or FP\n",
    "subset_pred_pos_2 = rubber_ducks_df[rubber_ducks_df.model2 == 'Defect']\n",
    "\n",
    "# precision for model 1 is the percentage of total positive predictions were actually positive\n",
    "model2_prec = (subset_pred_pos_2.actual == subset_pred_pos_2.model2).mean()\n",
    "print(f'Model 2 Precision: {model2_prec:.2%}')"
   ]
  },
  {
   "cell_type": "code",
   "execution_count": 11,
   "id": "802dde81",
   "metadata": {},
   "outputs": [
    {
     "name": "stdout",
     "output_type": "stream",
     "text": [
      "Model 3 Precision: 13.13%\n"
     ]
    }
   ],
   "source": [
    "# for model 3, looking the subset of data where model 3 was a positive prediction, whether TP or FP\n",
    "subset_pred_pos_3 = rubber_ducks_df[rubber_ducks_df.model3 == 'Defect']\n",
    "\n",
    "# precision for model 1 is the percentage of total positive predictions were actually positive\n",
    "model3_prec = (subset_pred_pos_3.actual == subset_pred_pos_3.model3).mean()\n",
    "print(f'Model 3 Precision: {model3_prec:.2%}')"
   ]
  },
  {
   "cell_type": "markdown",
   "id": "10c454df",
   "metadata": {
    "scrolled": true
   },
   "source": [
    "#### The PR Team should choose Model 1 since it has the highest precision of 80%\n",
    ">We are looking at precision since it will minimize False Positives, or the number of non-defective ducks that we incorrectly label defective"
   ]
  },
  {
   "cell_type": "markdown",
   "id": "779565dc",
   "metadata": {},
   "source": [
    "# 4. Give You Paws™"
   ]
  },
  {
   "cell_type": "code",
   "execution_count": 12,
   "id": "eb23c5ce",
   "metadata": {},
   "outputs": [
    {
     "data": {
      "text/html": [
       "<div>\n",
       "<style scoped>\n",
       "    .dataframe tbody tr th:only-of-type {\n",
       "        vertical-align: middle;\n",
       "    }\n",
       "\n",
       "    .dataframe tbody tr th {\n",
       "        vertical-align: top;\n",
       "    }\n",
       "\n",
       "    .dataframe thead th {\n",
       "        text-align: right;\n",
       "    }\n",
       "</style>\n",
       "<table border=\"1\" class=\"dataframe\">\n",
       "  <thead>\n",
       "    <tr style=\"text-align: right;\">\n",
       "      <th></th>\n",
       "      <th>actual</th>\n",
       "      <th>model1</th>\n",
       "      <th>model2</th>\n",
       "      <th>model3</th>\n",
       "      <th>model4</th>\n",
       "    </tr>\n",
       "  </thead>\n",
       "  <tbody>\n",
       "    <tr>\n",
       "      <th>0</th>\n",
       "      <td>cat</td>\n",
       "      <td>cat</td>\n",
       "      <td>dog</td>\n",
       "      <td>cat</td>\n",
       "      <td>dog</td>\n",
       "    </tr>\n",
       "    <tr>\n",
       "      <th>1</th>\n",
       "      <td>dog</td>\n",
       "      <td>dog</td>\n",
       "      <td>cat</td>\n",
       "      <td>cat</td>\n",
       "      <td>dog</td>\n",
       "    </tr>\n",
       "    <tr>\n",
       "      <th>2</th>\n",
       "      <td>dog</td>\n",
       "      <td>cat</td>\n",
       "      <td>cat</td>\n",
       "      <td>cat</td>\n",
       "      <td>dog</td>\n",
       "    </tr>\n",
       "    <tr>\n",
       "      <th>3</th>\n",
       "      <td>dog</td>\n",
       "      <td>dog</td>\n",
       "      <td>dog</td>\n",
       "      <td>cat</td>\n",
       "      <td>dog</td>\n",
       "    </tr>\n",
       "    <tr>\n",
       "      <th>4</th>\n",
       "      <td>cat</td>\n",
       "      <td>cat</td>\n",
       "      <td>cat</td>\n",
       "      <td>dog</td>\n",
       "      <td>dog</td>\n",
       "    </tr>\n",
       "  </tbody>\n",
       "</table>\n",
       "</div>"
      ],
      "text/plain": [
       "  actual model1 model2 model3 model4\n",
       "0    cat    cat    dog    cat    dog\n",
       "1    dog    dog    cat    cat    dog\n",
       "2    dog    cat    cat    cat    dog\n",
       "3    dog    dog    dog    cat    dog\n",
       "4    cat    cat    cat    dog    dog"
      ]
     },
     "execution_count": 12,
     "metadata": {},
     "output_type": "execute_result"
    }
   ],
   "source": [
    "# importing paws dataset and writing into DataFrame\n",
    "paw_df = pd.read_csv('gives_you_paws.csv')\n",
    "paw_df.head()"
   ]
  },
  {
   "cell_type": "markdown",
   "id": "abe045d6",
   "metadata": {},
   "source": [
    "# 4a. How do the models compare to the baseline model?"
   ]
  },
  {
   "cell_type": "code",
   "execution_count": 13,
   "id": "a338813f",
   "metadata": {},
   "outputs": [
    {
     "data": {
      "text/plain": [
       "dog    3254\n",
       "cat    1746\n",
       "Name: actual, dtype: int64"
      ]
     },
     "execution_count": 13,
     "metadata": {},
     "output_type": "execute_result"
    }
   ],
   "source": [
    "# determining which class will be our baseline\n",
    "paw_df.actual.value_counts()"
   ]
  },
  {
   "cell_type": "code",
   "execution_count": 17,
   "id": "65e23acf",
   "metadata": {},
   "outputs": [
    {
     "data": {
      "text/html": [
       "<div>\n",
       "<style scoped>\n",
       "    .dataframe tbody tr th:only-of-type {\n",
       "        vertical-align: middle;\n",
       "    }\n",
       "\n",
       "    .dataframe tbody tr th {\n",
       "        vertical-align: top;\n",
       "    }\n",
       "\n",
       "    .dataframe thead th {\n",
       "        text-align: right;\n",
       "    }\n",
       "</style>\n",
       "<table border=\"1\" class=\"dataframe\">\n",
       "  <thead>\n",
       "    <tr style=\"text-align: right;\">\n",
       "      <th></th>\n",
       "      <th>actual</th>\n",
       "      <th>model1</th>\n",
       "      <th>model2</th>\n",
       "      <th>model3</th>\n",
       "      <th>model4</th>\n",
       "      <th>baseline</th>\n",
       "    </tr>\n",
       "  </thead>\n",
       "  <tbody>\n",
       "    <tr>\n",
       "      <th>0</th>\n",
       "      <td>cat</td>\n",
       "      <td>cat</td>\n",
       "      <td>dog</td>\n",
       "      <td>cat</td>\n",
       "      <td>dog</td>\n",
       "      <td>dog</td>\n",
       "    </tr>\n",
       "    <tr>\n",
       "      <th>1</th>\n",
       "      <td>dog</td>\n",
       "      <td>dog</td>\n",
       "      <td>cat</td>\n",
       "      <td>cat</td>\n",
       "      <td>dog</td>\n",
       "      <td>dog</td>\n",
       "    </tr>\n",
       "    <tr>\n",
       "      <th>2</th>\n",
       "      <td>dog</td>\n",
       "      <td>cat</td>\n",
       "      <td>cat</td>\n",
       "      <td>cat</td>\n",
       "      <td>dog</td>\n",
       "      <td>dog</td>\n",
       "    </tr>\n",
       "    <tr>\n",
       "      <th>3</th>\n",
       "      <td>dog</td>\n",
       "      <td>dog</td>\n",
       "      <td>dog</td>\n",
       "      <td>cat</td>\n",
       "      <td>dog</td>\n",
       "      <td>dog</td>\n",
       "    </tr>\n",
       "    <tr>\n",
       "      <th>4</th>\n",
       "      <td>cat</td>\n",
       "      <td>cat</td>\n",
       "      <td>cat</td>\n",
       "      <td>dog</td>\n",
       "      <td>dog</td>\n",
       "      <td>dog</td>\n",
       "    </tr>\n",
       "    <tr>\n",
       "      <th>...</th>\n",
       "      <td>...</td>\n",
       "      <td>...</td>\n",
       "      <td>...</td>\n",
       "      <td>...</td>\n",
       "      <td>...</td>\n",
       "      <td>...</td>\n",
       "    </tr>\n",
       "    <tr>\n",
       "      <th>4995</th>\n",
       "      <td>dog</td>\n",
       "      <td>dog</td>\n",
       "      <td>dog</td>\n",
       "      <td>dog</td>\n",
       "      <td>dog</td>\n",
       "      <td>dog</td>\n",
       "    </tr>\n",
       "    <tr>\n",
       "      <th>4996</th>\n",
       "      <td>dog</td>\n",
       "      <td>dog</td>\n",
       "      <td>cat</td>\n",
       "      <td>cat</td>\n",
       "      <td>dog</td>\n",
       "      <td>dog</td>\n",
       "    </tr>\n",
       "    <tr>\n",
       "      <th>4997</th>\n",
       "      <td>dog</td>\n",
       "      <td>cat</td>\n",
       "      <td>cat</td>\n",
       "      <td>dog</td>\n",
       "      <td>dog</td>\n",
       "      <td>dog</td>\n",
       "    </tr>\n",
       "    <tr>\n",
       "      <th>4998</th>\n",
       "      <td>cat</td>\n",
       "      <td>cat</td>\n",
       "      <td>cat</td>\n",
       "      <td>cat</td>\n",
       "      <td>dog</td>\n",
       "      <td>dog</td>\n",
       "    </tr>\n",
       "    <tr>\n",
       "      <th>4999</th>\n",
       "      <td>dog</td>\n",
       "      <td>dog</td>\n",
       "      <td>dog</td>\n",
       "      <td>dog</td>\n",
       "      <td>dog</td>\n",
       "      <td>dog</td>\n",
       "    </tr>\n",
       "  </tbody>\n",
       "</table>\n",
       "<p>5000 rows × 6 columns</p>\n",
       "</div>"
      ],
      "text/plain": [
       "     actual model1 model2 model3 model4 baseline\n",
       "0       cat    cat    dog    cat    dog      dog\n",
       "1       dog    dog    cat    cat    dog      dog\n",
       "2       dog    cat    cat    cat    dog      dog\n",
       "3       dog    dog    dog    cat    dog      dog\n",
       "4       cat    cat    cat    dog    dog      dog\n",
       "...     ...    ...    ...    ...    ...      ...\n",
       "4995    dog    dog    dog    dog    dog      dog\n",
       "4996    dog    dog    cat    cat    dog      dog\n",
       "4997    dog    cat    cat    dog    dog      dog\n",
       "4998    cat    cat    cat    cat    dog      dog\n",
       "4999    dog    dog    dog    dog    dog      dog\n",
       "\n",
       "[5000 rows x 6 columns]"
      ]
     },
     "execution_count": 17,
     "metadata": {},
     "output_type": "execute_result"
    }
   ],
   "source": [
    "# adding baseline column to df\n",
    "paw_df['baseline'] = 'dog'\n",
    "paw_df"
   ]
  },
  {
   "cell_type": "code",
   "execution_count": 25,
   "id": "7cda94f5",
   "metadata": {},
   "outputs": [
    {
     "data": {
      "text/plain": [
       "['model1', 'model2', 'model3', 'model4', 'baseline']"
      ]
     },
     "execution_count": 25,
     "metadata": {},
     "output_type": "execute_result"
    }
   ],
   "source": [
    "# save model columns into a list (exclusing index col\n",
    "models = (list(paw_df.columns)[1:])\n",
    "models"
   ]
  },
  {
   "cell_type": "code",
   "execution_count": 27,
   "id": "939bc31e",
   "metadata": {},
   "outputs": [
    {
     "name": "stdout",
     "output_type": "stream",
     "text": [
      "model1 Accuracy: 80.74%\n",
      "model2 Accuracy: 63.04%\n",
      "model3 Accuracy: 50.96%\n",
      "model4 Accuracy: 74.26%\n",
      "baseline Accuracy: 65.08%\n"
     ]
    }
   ],
   "source": [
    "# creating a for loop that calculates the accuracy for each model column\n",
    "for model in models:\n",
    "    accuracy = (paw_df.actual == paw_df[model]).mean()\n",
    "    print(f'{model} Accuracy: {accuracy:.2%}')"
   ]
  },
  {
   "cell_type": "markdown",
   "id": "08fcef20",
   "metadata": {},
   "source": [
    "#### Models 1 and 4 accuracy beat the baseline, with Model 1 accuracy being the highest\n",
    "#### Models 2 and 3 accuracy do not beat the baseline, with Model 3 being the lowest"
   ]
  },
  {
   "cell_type": "markdown",
   "id": "82bcc3e5",
   "metadata": {},
   "source": [
    "# 4b. Dog Team | Phase I\n",
    ">Suppose you are working on a team that solely deals with dog pictures. Which of these models would you recomend for Phase I? <br>For Phase II?\n",
    "\n",
    "Phase 1: Minimize misses [FN] ---> chances that we incorrectly labeled a dog a cat"
   ]
  },
  {
   "cell_type": "code",
   "execution_count": null,
   "id": "634b4b1a",
   "metadata": {},
   "outputs": [],
   "source": []
  },
  {
   "cell_type": "markdown",
   "id": "081fccdd",
   "metadata": {},
   "source": [
    "# 4b. Dog Team | Phase II\n",
    ">Suppose you are working on a team that solely deals with dog pictures. Which of these models would you recomend for Phase I? <br>For Phase II?\n",
    "\n",
    "Phase 2: Minimize misses [FP] ---> chances that we incorrectly labeled a cat a dog"
   ]
  },
  {
   "cell_type": "markdown",
   "id": "33cf2518",
   "metadata": {},
   "source": [
    "# 4c. Cat Team"
   ]
  },
  {
   "cell_type": "code",
   "execution_count": null,
   "id": "c4355598",
   "metadata": {},
   "outputs": [],
   "source": []
  }
 ],
 "metadata": {
  "kernelspec": {
   "display_name": "Python 3",
   "language": "python",
   "name": "python3"
  },
  "language_info": {
   "codemirror_mode": {
    "name": "ipython",
    "version": 3
   },
   "file_extension": ".py",
   "mimetype": "text/x-python",
   "name": "python",
   "nbconvert_exporter": "python",
   "pygments_lexer": "ipython3",
   "version": "3.8.8"
  }
 },
 "nbformat": 4,
 "nbformat_minor": 5
}
